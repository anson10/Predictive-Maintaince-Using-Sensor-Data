{
 "cells": [
  {
   "cell_type": "code",
   "execution_count": 14,
   "metadata": {},
   "outputs": [],
   "source": [
    "import pandas as pd\n",
    "import os\n",
    "import numpy as np\n",
    "import tensorflow as tf\n",
    "from sklearn.preprocessing import MinMaxScaler\n",
    "from tensorflow.keras.models import Sequential\n",
    "from tensorflow.keras.layers import LSTM, Dense, Dropout, BatchNormalization, Bidirectional\n",
    "from tensorflow.keras.callbacks import TensorBoard\n",
    "from tensorflow.keras.optimizers import Adam\n",
    "import datetime\n"
   ]
  },
  {
   "cell_type": "code",
   "execution_count": 15,
   "metadata": {},
   "outputs": [],
   "source": [
    "def load_data(train_file_path, test_file_path):\n",
    "    # Load training and test data\n",
    "    column_names = ['engine_id', 'cycle', 'op_setting_1', 'op_setting_2', 'op_setting_3', \n",
    "                    'sensor_1', 'sensor_2', 'sensor_3', 'sensor_4', 'sensor_5', 'sensor_6', \n",
    "                    'sensor_7', 'sensor_8', 'sensor_9', 'sensor_10', 'sensor_11', 'sensor_12', \n",
    "                    'sensor_13', 'sensor_14', 'sensor_15', 'sensor_16', 'sensor_17', 'sensor_18', \n",
    "                    'sensor_19', 'sensor_20', 'sensor_21']\n",
    "\n",
    "    # Read CSV data\n",
    "    train_data = pd.read_csv(train_file_path, header=None, names=column_names, sep=' ')\n",
    "    test_data = pd.read_csv(test_file_path, header=None, names=column_names, sep=' ')\n",
    "    \n",
    "    return train_data, test_data\n"
   ]
  },
  {
   "cell_type": "code",
   "execution_count": 16,
   "metadata": {},
   "outputs": [],
   "source": [
    "# Load dataset from your file path\n",
    "train_file_path = '../data/train_FD001.txt'\n",
    "test_file_path = '../data/test_FD001.txt'"
   ]
  },
  {
   "cell_type": "code",
   "execution_count": 17,
   "metadata": {},
   "outputs": [],
   "source": [
    "train_data, test_data = load_data(train_file_path, test_file_path)\n"
   ]
  },
  {
   "cell_type": "code",
   "execution_count": 18,
   "metadata": {},
   "outputs": [
    {
     "name": "stdout",
     "output_type": "stream",
     "text": [
      "Train data shape: (20631, 26)\n",
      "Test data shape: (13096, 26)\n"
     ]
    }
   ],
   "source": [
    "print(f\"Train data shape: {train_data.shape}\")\n",
    "print(f\"Test data shape: {test_data.shape}\")\n",
    "\n",
    "# train_data = train_data.drop(columns=['sensor_20', 'sensor_21'])\n",
    "test_data = test_data.drop(columns=['sensor_20', 'sensor_21'])\n",
    "\n"
   ]
  },
  {
   "cell_type": "code",
   "execution_count": 19,
   "metadata": {},
   "outputs": [
    {
     "data": {
      "text/html": [
       "<div>\n",
       "<style scoped>\n",
       "    .dataframe tbody tr th:only-of-type {\n",
       "        vertical-align: middle;\n",
       "    }\n",
       "\n",
       "    .dataframe tbody tr th {\n",
       "        vertical-align: top;\n",
       "    }\n",
       "\n",
       "    .dataframe thead th {\n",
       "        text-align: right;\n",
       "    }\n",
       "</style>\n",
       "<table border=\"1\" class=\"dataframe\">\n",
       "  <thead>\n",
       "    <tr style=\"text-align: right;\">\n",
       "      <th></th>\n",
       "      <th></th>\n",
       "      <th>engine_id</th>\n",
       "      <th>cycle</th>\n",
       "      <th>op_setting_1</th>\n",
       "      <th>op_setting_2</th>\n",
       "      <th>op_setting_3</th>\n",
       "      <th>sensor_1</th>\n",
       "      <th>sensor_2</th>\n",
       "      <th>sensor_3</th>\n",
       "      <th>sensor_4</th>\n",
       "      <th>sensor_5</th>\n",
       "      <th>...</th>\n",
       "      <th>sensor_12</th>\n",
       "      <th>sensor_13</th>\n",
       "      <th>sensor_14</th>\n",
       "      <th>sensor_15</th>\n",
       "      <th>sensor_16</th>\n",
       "      <th>sensor_17</th>\n",
       "      <th>sensor_18</th>\n",
       "      <th>sensor_19</th>\n",
       "      <th>sensor_20</th>\n",
       "      <th>sensor_21</th>\n",
       "    </tr>\n",
       "  </thead>\n",
       "  <tbody>\n",
       "    <tr>\n",
       "      <th rowspan=\"5\" valign=\"top\">1</th>\n",
       "      <th>1</th>\n",
       "      <td>-0.0007</td>\n",
       "      <td>-0.0004</td>\n",
       "      <td>100.0</td>\n",
       "      <td>518.67</td>\n",
       "      <td>641.82</td>\n",
       "      <td>1589.70</td>\n",
       "      <td>1400.60</td>\n",
       "      <td>14.62</td>\n",
       "      <td>21.61</td>\n",
       "      <td>554.36</td>\n",
       "      <td>...</td>\n",
       "      <td>8138.62</td>\n",
       "      <td>8.4195</td>\n",
       "      <td>0.03</td>\n",
       "      <td>392</td>\n",
       "      <td>2388</td>\n",
       "      <td>100.0</td>\n",
       "      <td>39.06</td>\n",
       "      <td>23.4190</td>\n",
       "      <td>NaN</td>\n",
       "      <td>NaN</td>\n",
       "    </tr>\n",
       "    <tr>\n",
       "      <th>2</th>\n",
       "      <td>0.0019</td>\n",
       "      <td>-0.0003</td>\n",
       "      <td>100.0</td>\n",
       "      <td>518.67</td>\n",
       "      <td>642.15</td>\n",
       "      <td>1591.82</td>\n",
       "      <td>1403.14</td>\n",
       "      <td>14.62</td>\n",
       "      <td>21.61</td>\n",
       "      <td>553.75</td>\n",
       "      <td>...</td>\n",
       "      <td>8131.49</td>\n",
       "      <td>8.4318</td>\n",
       "      <td>0.03</td>\n",
       "      <td>392</td>\n",
       "      <td>2388</td>\n",
       "      <td>100.0</td>\n",
       "      <td>39.00</td>\n",
       "      <td>23.4236</td>\n",
       "      <td>NaN</td>\n",
       "      <td>NaN</td>\n",
       "    </tr>\n",
       "    <tr>\n",
       "      <th>3</th>\n",
       "      <td>-0.0043</td>\n",
       "      <td>0.0003</td>\n",
       "      <td>100.0</td>\n",
       "      <td>518.67</td>\n",
       "      <td>642.35</td>\n",
       "      <td>1587.99</td>\n",
       "      <td>1404.20</td>\n",
       "      <td>14.62</td>\n",
       "      <td>21.61</td>\n",
       "      <td>554.26</td>\n",
       "      <td>...</td>\n",
       "      <td>8133.23</td>\n",
       "      <td>8.4178</td>\n",
       "      <td>0.03</td>\n",
       "      <td>390</td>\n",
       "      <td>2388</td>\n",
       "      <td>100.0</td>\n",
       "      <td>38.95</td>\n",
       "      <td>23.3442</td>\n",
       "      <td>NaN</td>\n",
       "      <td>NaN</td>\n",
       "    </tr>\n",
       "    <tr>\n",
       "      <th>4</th>\n",
       "      <td>0.0007</td>\n",
       "      <td>0.0000</td>\n",
       "      <td>100.0</td>\n",
       "      <td>518.67</td>\n",
       "      <td>642.35</td>\n",
       "      <td>1582.79</td>\n",
       "      <td>1401.87</td>\n",
       "      <td>14.62</td>\n",
       "      <td>21.61</td>\n",
       "      <td>554.45</td>\n",
       "      <td>...</td>\n",
       "      <td>8133.83</td>\n",
       "      <td>8.3682</td>\n",
       "      <td>0.03</td>\n",
       "      <td>392</td>\n",
       "      <td>2388</td>\n",
       "      <td>100.0</td>\n",
       "      <td>38.88</td>\n",
       "      <td>23.3739</td>\n",
       "      <td>NaN</td>\n",
       "      <td>NaN</td>\n",
       "    </tr>\n",
       "    <tr>\n",
       "      <th>5</th>\n",
       "      <td>-0.0019</td>\n",
       "      <td>-0.0002</td>\n",
       "      <td>100.0</td>\n",
       "      <td>518.67</td>\n",
       "      <td>642.37</td>\n",
       "      <td>1582.85</td>\n",
       "      <td>1406.22</td>\n",
       "      <td>14.62</td>\n",
       "      <td>21.61</td>\n",
       "      <td>554.00</td>\n",
       "      <td>...</td>\n",
       "      <td>8133.80</td>\n",
       "      <td>8.4294</td>\n",
       "      <td>0.03</td>\n",
       "      <td>393</td>\n",
       "      <td>2388</td>\n",
       "      <td>100.0</td>\n",
       "      <td>38.90</td>\n",
       "      <td>23.4044</td>\n",
       "      <td>NaN</td>\n",
       "      <td>NaN</td>\n",
       "    </tr>\n",
       "  </tbody>\n",
       "</table>\n",
       "<p>5 rows × 26 columns</p>\n",
       "</div>"
      ],
      "text/plain": [
       "     engine_id   cycle  op_setting_1  op_setting_2  op_setting_3  sensor_1  \\\n",
       "1 1    -0.0007 -0.0004         100.0        518.67        641.82   1589.70   \n",
       "  2     0.0019 -0.0003         100.0        518.67        642.15   1591.82   \n",
       "  3    -0.0043  0.0003         100.0        518.67        642.35   1587.99   \n",
       "  4     0.0007  0.0000         100.0        518.67        642.35   1582.79   \n",
       "  5    -0.0019 -0.0002         100.0        518.67        642.37   1582.85   \n",
       "\n",
       "     sensor_2  sensor_3  sensor_4  sensor_5  ...  sensor_12  sensor_13  \\\n",
       "1 1   1400.60     14.62     21.61    554.36  ...    8138.62     8.4195   \n",
       "  2   1403.14     14.62     21.61    553.75  ...    8131.49     8.4318   \n",
       "  3   1404.20     14.62     21.61    554.26  ...    8133.23     8.4178   \n",
       "  4   1401.87     14.62     21.61    554.45  ...    8133.83     8.3682   \n",
       "  5   1406.22     14.62     21.61    554.00  ...    8133.80     8.4294   \n",
       "\n",
       "     sensor_14  sensor_15  sensor_16  sensor_17  sensor_18  sensor_19  \\\n",
       "1 1       0.03        392       2388      100.0      39.06    23.4190   \n",
       "  2       0.03        392       2388      100.0      39.00    23.4236   \n",
       "  3       0.03        390       2388      100.0      38.95    23.3442   \n",
       "  4       0.03        392       2388      100.0      38.88    23.3739   \n",
       "  5       0.03        393       2388      100.0      38.90    23.4044   \n",
       "\n",
       "     sensor_20  sensor_21  \n",
       "1 1        NaN        NaN  \n",
       "  2        NaN        NaN  \n",
       "  3        NaN        NaN  \n",
       "  4        NaN        NaN  \n",
       "  5        NaN        NaN  \n",
       "\n",
       "[5 rows x 26 columns]"
      ]
     },
     "execution_count": 19,
     "metadata": {},
     "output_type": "execute_result"
    }
   ],
   "source": [
    "train_data.head()"
   ]
  },
  {
   "cell_type": "code",
   "execution_count": 20,
   "metadata": {},
   "outputs": [
    {
     "data": {
      "text/plain": [
       "Index(['engine_id', 'cycle', 'op_setting_1', 'op_setting_2', 'op_setting_3',\n",
       "       'sensor_1', 'sensor_2', 'sensor_3', 'sensor_4', 'sensor_5', 'sensor_6',\n",
       "       'sensor_7', 'sensor_8', 'sensor_9', 'sensor_10', 'sensor_11',\n",
       "       'sensor_12', 'sensor_13', 'sensor_14', 'sensor_15', 'sensor_16',\n",
       "       'sensor_17', 'sensor_18', 'sensor_19', 'sensor_20', 'sensor_21'],\n",
       "      dtype='object')"
      ]
     },
     "execution_count": 20,
     "metadata": {},
     "output_type": "execute_result"
    }
   ],
   "source": [
    "train_data.columns"
   ]
  },
  {
   "cell_type": "code",
   "execution_count": 21,
   "metadata": {},
   "outputs": [
    {
     "data": {
      "text/plain": [
       "Index(['engine_id', 'cycle', 'op_setting_1', 'op_setting_2', 'op_setting_3',\n",
       "       'sensor_1', 'sensor_2', 'sensor_3', 'sensor_4', 'sensor_5', 'sensor_6',\n",
       "       'sensor_7', 'sensor_8', 'sensor_9', 'sensor_10', 'sensor_11',\n",
       "       'sensor_12', 'sensor_13', 'sensor_14', 'sensor_15', 'sensor_16',\n",
       "       'sensor_17', 'sensor_18', 'sensor_19'],\n",
       "      dtype='object')"
      ]
     },
     "execution_count": 21,
     "metadata": {},
     "output_type": "execute_result"
    }
   ],
   "source": [
    "test_data.columns"
   ]
  },
  {
   "cell_type": "code",
   "execution_count": 22,
   "metadata": {},
   "outputs": [],
   "source": [
    "train_data['RUL'] = train_data.groupby('engine_id')['cycle'].transform('max') - train_data['cycle']\n",
    "test_data['RUL'] = test_data.groupby('engine_id')['cycle'].transform('max') - test_data['cycle']\n"
   ]
  },
  {
   "cell_type": "markdown",
   "metadata": {},
   "source": [
    "### DATA PREPROCESSING"
   ]
  },
  {
   "cell_type": "code",
   "execution_count": 23,
   "metadata": {},
   "outputs": [],
   "source": [
    "def create_sequences(data, window_size=30):\n",
    "    X, y = [], []\n",
    "    for engine_id in data['engine_id'].unique():\n",
    "        # Select the data for each engine\n",
    "        engine_data = data[data['engine_id'] == engine_id].iloc[:, 2:21].values  # Select sensor columns\n",
    "        engine_rul = data[data['engine_id'] == engine_id]['RUL'].values  # RUL column\n",
    "        \n",
    "        # Create sequences\n",
    "        for i in range(len(engine_data) - window_size):\n",
    "            X.append(engine_data[i:i + window_size])\n",
    "            y.append(engine_rul[i + window_size])  # Predict RUL after window\n",
    "    return np.array(X), np.array(y)\n"
   ]
  },
  {
   "cell_type": "code",
   "execution_count": 24,
   "metadata": {},
   "outputs": [],
   "source": [
    "# Prepare training and testing sequences\n",
    "window_size = 30  # Set window size (30 time steps)\n",
    "X_train, y_train = create_sequences(train_data, window_size)\n",
    "X_test, y_test = create_sequences(test_data, window_size)\n"
   ]
  },
  {
   "cell_type": "code",
   "execution_count": 25,
   "metadata": {},
   "outputs": [
    {
     "name": "stdout",
     "output_type": "stream",
     "text": [
      "Training data shape: (17202, 30, 19), Test data shape: (9840, 30, 19)\n"
     ]
    }
   ],
   "source": [
    "print(f\"Training data shape: {X_train.shape}, Test data shape: {X_test.shape}\")\n"
   ]
  },
  {
   "cell_type": "code",
   "execution_count": 26,
   "metadata": {},
   "outputs": [
    {
     "data": {
      "text/plain": [
       "array([[[1.0000e+02, 5.1867e+02, 6.4182e+02, ..., 3.0000e-02,\n",
       "         3.9200e+02, 2.3880e+03],\n",
       "        [1.0000e+02, 5.1867e+02, 6.4250e+02, ..., 3.0000e-02,\n",
       "         3.9100e+02, 2.3880e+03],\n",
       "        [1.0000e+02, 5.1867e+02, 6.4270e+02, ..., 3.0000e-02,\n",
       "         3.9400e+02, 2.3880e+03],\n",
       "        ...,\n",
       "        [1.0000e+02, 5.1867e+02, 6.4381e+02, ..., 3.0000e-02,\n",
       "         3.9400e+02, 2.3880e+03],\n",
       "        [1.0000e+02, 5.1867e+02, 6.4221e+02, ..., 3.0000e-02,\n",
       "         3.9200e+02, 2.3880e+03],\n",
       "        [1.0000e+02, 5.1867e+02, 6.4202e+02, ..., 3.0000e-02,\n",
       "         3.9200e+02, 2.3880e+03]],\n",
       "\n",
       "       [[1.0000e+02, 5.1867e+02, 6.4250e+02, ..., 3.0000e-02,\n",
       "         3.9100e+02, 2.3880e+03],\n",
       "        [1.0000e+02, 5.1867e+02, 6.4270e+02, ..., 3.0000e-02,\n",
       "         3.9400e+02, 2.3880e+03],\n",
       "        [1.0000e+02, 5.1867e+02, 6.4248e+02, ..., 3.0000e-02,\n",
       "         3.9200e+02, 2.3880e+03],\n",
       "        ...,\n",
       "        [1.0000e+02, 5.1867e+02, 6.4221e+02, ..., 3.0000e-02,\n",
       "         3.9200e+02, 2.3880e+03],\n",
       "        [1.0000e+02, 5.1867e+02, 6.4202e+02, ..., 3.0000e-02,\n",
       "         3.9200e+02, 2.3880e+03],\n",
       "        [1.0000e+02, 5.1867e+02, 6.4265e+02, ..., 3.0000e-02,\n",
       "         3.9400e+02, 2.3880e+03]],\n",
       "\n",
       "       [[1.0000e+02, 5.1867e+02, 6.4270e+02, ..., 3.0000e-02,\n",
       "         3.9400e+02, 2.3880e+03],\n",
       "        [1.0000e+02, 5.1867e+02, 6.4248e+02, ..., 3.0000e-02,\n",
       "         3.9200e+02, 2.3880e+03],\n",
       "        [1.0000e+02, 5.1867e+02, 6.4209e+02, ..., 3.0000e-02,\n",
       "         3.9100e+02, 2.3880e+03],\n",
       "        ...,\n",
       "        [1.0000e+02, 5.1867e+02, 6.4202e+02, ..., 3.0000e-02,\n",
       "         3.9200e+02, 2.3880e+03],\n",
       "        [1.0000e+02, 5.1867e+02, 6.4265e+02, ..., 3.0000e-02,\n",
       "         3.9400e+02, 2.3880e+03],\n",
       "        [1.0000e+02, 5.1867e+02, 6.4176e+02, ..., 3.0000e-02,\n",
       "         3.9000e+02, 2.3880e+03]],\n",
       "\n",
       "       ...,\n",
       "\n",
       "       [[1.0000e+02, 5.1867e+02, 6.4268e+02, ..., 3.0000e-02,\n",
       "         3.9400e+02, 2.3880e+03],\n",
       "        [1.0000e+02, 5.1867e+02, 6.4242e+02, ..., 3.0000e-02,\n",
       "         3.9200e+02, 2.3880e+03],\n",
       "        [1.0000e+02, 5.1867e+02, 6.4292e+02, ..., 3.0000e-02,\n",
       "         3.9400e+02, 2.3880e+03],\n",
       "        ...,\n",
       "        [1.0000e+02, 5.1867e+02, 6.4255e+02, ..., 3.0000e-02,\n",
       "         3.9400e+02, 2.3880e+03],\n",
       "        [1.0000e+02, 5.1867e+02, 6.4297e+02, ..., 3.0000e-02,\n",
       "         3.9200e+02, 2.3880e+03],\n",
       "        [1.0000e+02, 5.1867e+02, 6.4300e+02, ..., 3.0000e-02,\n",
       "         3.9300e+02, 2.3880e+03]],\n",
       "\n",
       "       [[1.0000e+02, 5.1867e+02, 6.4242e+02, ..., 3.0000e-02,\n",
       "         3.9200e+02, 2.3880e+03],\n",
       "        [1.0000e+02, 5.1867e+02, 6.4292e+02, ..., 3.0000e-02,\n",
       "         3.9400e+02, 2.3880e+03],\n",
       "        [1.0000e+02, 5.1867e+02, 6.4355e+02, ..., 3.0000e-02,\n",
       "         3.9600e+02, 2.3880e+03],\n",
       "        ...,\n",
       "        [1.0000e+02, 5.1867e+02, 6.4297e+02, ..., 3.0000e-02,\n",
       "         3.9200e+02, 2.3880e+03],\n",
       "        [1.0000e+02, 5.1867e+02, 6.4300e+02, ..., 3.0000e-02,\n",
       "         3.9300e+02, 2.3880e+03],\n",
       "        [1.0000e+02, 5.1867e+02, 6.4347e+02, ..., 3.0000e-02,\n",
       "         3.9600e+02, 2.3880e+03]],\n",
       "\n",
       "       [[1.0000e+02, 5.1867e+02, 6.4292e+02, ..., 3.0000e-02,\n",
       "         3.9400e+02, 2.3880e+03],\n",
       "        [1.0000e+02, 5.1867e+02, 6.4355e+02, ..., 3.0000e-02,\n",
       "         3.9600e+02, 2.3880e+03],\n",
       "        [1.0000e+02, 5.1867e+02, 6.4277e+02, ..., 3.0000e-02,\n",
       "         3.9200e+02, 2.3880e+03],\n",
       "        ...,\n",
       "        [1.0000e+02, 5.1867e+02, 6.4300e+02, ..., 3.0000e-02,\n",
       "         3.9300e+02, 2.3880e+03],\n",
       "        [1.0000e+02, 5.1867e+02, 6.4347e+02, ..., 3.0000e-02,\n",
       "         3.9600e+02, 2.3880e+03],\n",
       "        [1.0000e+02, 5.1867e+02, 6.4199e+02, ..., 3.0000e-02,\n",
       "         3.9100e+02, 2.3880e+03]]])"
      ]
     },
     "execution_count": 26,
     "metadata": {},
     "output_type": "execute_result"
    }
   ],
   "source": [
    "X_train "
   ]
  },
  {
   "cell_type": "markdown",
   "metadata": {},
   "source": [
    "### DATA NORMALIZATION"
   ]
  },
  {
   "cell_type": "code",
   "execution_count": 27,
   "metadata": {},
   "outputs": [],
   "source": [
    "def normalize_data(X_train, X_test):\n",
    "    scaler = MinMaxScaler(feature_range=(0, 1))\n",
    "    # Flatten the data to apply MinMaxScaler\n",
    "    X_train_reshaped = X_train.reshape(-1, X_train.shape[-1])\n",
    "    X_test_reshaped = X_test.reshape(-1, X_test.shape[-1])\n",
    "    \n",
    "    # Fit the scaler to training data\n",
    "    X_train_scaled = scaler.fit_transform(X_train_reshaped).reshape(X_train.shape)\n",
    "    # Apply the scaler to test data\n",
    "    X_test_scaled = scaler.transform(X_test_reshaped).reshape(X_test.shape)\n",
    "    \n",
    "    return X_train_scaled, X_test_scaled\n",
    "\n",
    "# Normalize the sequences\n",
    "X_train_scaled, X_test_scaled = normalize_data(X_train, X_test)\n"
   ]
  },
  {
   "cell_type": "code",
   "execution_count": 28,
   "metadata": {},
   "outputs": [
    {
     "data": {
      "text/plain": [
       "array([[[0.        , 0.        , 0.18373494, ..., 0.        ,\n",
       "         0.33333333, 0.        ],\n",
       "        [0.        , 0.        , 0.38855422, ..., 0.        ,\n",
       "         0.25      , 0.        ],\n",
       "        [0.        , 0.        , 0.44879518, ..., 0.        ,\n",
       "         0.5       , 0.        ],\n",
       "        ...,\n",
       "        [0.        , 0.        , 0.78313253, ..., 0.        ,\n",
       "         0.5       , 0.        ],\n",
       "        [0.        , 0.        , 0.30120482, ..., 0.        ,\n",
       "         0.33333333, 0.        ],\n",
       "        [0.        , 0.        , 0.2439759 , ..., 0.        ,\n",
       "         0.33333333, 0.        ]],\n",
       "\n",
       "       [[0.        , 0.        , 0.38855422, ..., 0.        ,\n",
       "         0.25      , 0.        ],\n",
       "        [0.        , 0.        , 0.44879518, ..., 0.        ,\n",
       "         0.5       , 0.        ],\n",
       "        [0.        , 0.        , 0.38253012, ..., 0.        ,\n",
       "         0.33333333, 0.        ],\n",
       "        ...,\n",
       "        [0.        , 0.        , 0.30120482, ..., 0.        ,\n",
       "         0.33333333, 0.        ],\n",
       "        [0.        , 0.        , 0.2439759 , ..., 0.        ,\n",
       "         0.33333333, 0.        ],\n",
       "        [0.        , 0.        , 0.43373494, ..., 0.        ,\n",
       "         0.5       , 0.        ]],\n",
       "\n",
       "       [[0.        , 0.        , 0.44879518, ..., 0.        ,\n",
       "         0.5       , 0.        ],\n",
       "        [0.        , 0.        , 0.38253012, ..., 0.        ,\n",
       "         0.33333333, 0.        ],\n",
       "        [0.        , 0.        , 0.26506024, ..., 0.        ,\n",
       "         0.25      , 0.        ],\n",
       "        ...,\n",
       "        [0.        , 0.        , 0.2439759 , ..., 0.        ,\n",
       "         0.33333333, 0.        ],\n",
       "        [0.        , 0.        , 0.43373494, ..., 0.        ,\n",
       "         0.5       , 0.        ],\n",
       "        [0.        , 0.        , 0.16566265, ..., 0.        ,\n",
       "         0.16666667, 0.        ]],\n",
       "\n",
       "       ...,\n",
       "\n",
       "       [[0.        , 0.        , 0.44277108, ..., 0.        ,\n",
       "         0.5       , 0.        ],\n",
       "        [0.        , 0.        , 0.36445783, ..., 0.        ,\n",
       "         0.33333333, 0.        ],\n",
       "        [0.        , 0.        , 0.51506024, ..., 0.        ,\n",
       "         0.5       , 0.        ],\n",
       "        ...,\n",
       "        [0.        , 0.        , 0.40361446, ..., 0.        ,\n",
       "         0.5       , 0.        ],\n",
       "        [0.        , 0.        , 0.53012048, ..., 0.        ,\n",
       "         0.33333333, 0.        ],\n",
       "        [0.        , 0.        , 0.53915663, ..., 0.        ,\n",
       "         0.41666667, 0.        ]],\n",
       "\n",
       "       [[0.        , 0.        , 0.36445783, ..., 0.        ,\n",
       "         0.33333333, 0.        ],\n",
       "        [0.        , 0.        , 0.51506024, ..., 0.        ,\n",
       "         0.5       , 0.        ],\n",
       "        [0.        , 0.        , 0.70481928, ..., 0.        ,\n",
       "         0.66666667, 0.        ],\n",
       "        ...,\n",
       "        [0.        , 0.        , 0.53012048, ..., 0.        ,\n",
       "         0.33333333, 0.        ],\n",
       "        [0.        , 0.        , 0.53915663, ..., 0.        ,\n",
       "         0.41666667, 0.        ],\n",
       "        [0.        , 0.        , 0.68072289, ..., 0.        ,\n",
       "         0.66666667, 0.        ]],\n",
       "\n",
       "       [[0.        , 0.        , 0.51506024, ..., 0.        ,\n",
       "         0.5       , 0.        ],\n",
       "        [0.        , 0.        , 0.70481928, ..., 0.        ,\n",
       "         0.66666667, 0.        ],\n",
       "        [0.        , 0.        , 0.46987952, ..., 0.        ,\n",
       "         0.33333333, 0.        ],\n",
       "        ...,\n",
       "        [0.        , 0.        , 0.53915663, ..., 0.        ,\n",
       "         0.41666667, 0.        ],\n",
       "        [0.        , 0.        , 0.68072289, ..., 0.        ,\n",
       "         0.66666667, 0.        ],\n",
       "        [0.        , 0.        , 0.23493976, ..., 0.        ,\n",
       "         0.25      , 0.        ]]])"
      ]
     },
     "execution_count": 28,
     "metadata": {},
     "output_type": "execute_result"
    }
   ],
   "source": [
    "X_train_scaled"
   ]
  },
  {
   "cell_type": "markdown",
   "metadata": {},
   "source": [
    "### LSTM MODEL"
   ]
  },
  {
   "cell_type": "code",
   "execution_count": 29,
   "metadata": {},
   "outputs": [
    {
     "name": "stderr",
     "output_type": "stream",
     "text": [
      "I0000 00:00:1738037807.194622  104248 gpu_device.cc:2022] Created device /job:localhost/replica:0/task:0/device:GPU:0 with 3620 MB memory:  -> device: 0, name: NVIDIA GeForce RTX 3050 6GB Laptop GPU, pci bus id: 0000:01:00.0, compute capability: 8.6\n",
      "/home/anson/miniconda3/envs/tf/lib/python3.10/site-packages/keras/src/layers/rnn/bidirectional.py:107: UserWarning: Do not pass an `input_shape`/`input_dim` argument to a layer. When using Sequential models, prefer using an `Input(shape)` object as the first layer in the model instead.\n",
      "  super().__init__(**kwargs)\n"
     ]
    },
    {
     "data": {
      "text/html": [
       "<pre style=\"white-space:pre;overflow-x:auto;line-height:normal;font-family:Menlo,'DejaVu Sans Mono',consolas,'Courier New',monospace\"><span style=\"font-weight: bold\">Model: \"sequential\"</span>\n",
       "</pre>\n"
      ],
      "text/plain": [
       "\u001b[1mModel: \"sequential\"\u001b[0m\n"
      ]
     },
     "metadata": {},
     "output_type": "display_data"
    },
    {
     "data": {
      "text/html": [
       "<pre style=\"white-space:pre;overflow-x:auto;line-height:normal;font-family:Menlo,'DejaVu Sans Mono',consolas,'Courier New',monospace\">┏━━━━━━━━━━━━━━━━━━━━━━━━━━━━━━━━━┳━━━━━━━━━━━━━━━━━━━━━━━━┳━━━━━━━━━━━━━━━┓\n",
       "┃<span style=\"font-weight: bold\"> Layer (type)                    </span>┃<span style=\"font-weight: bold\"> Output Shape           </span>┃<span style=\"font-weight: bold\">       Param # </span>┃\n",
       "┡━━━━━━━━━━━━━━━━━━━━━━━━━━━━━━━━━╇━━━━━━━━━━━━━━━━━━━━━━━━╇━━━━━━━━━━━━━━━┩\n",
       "│ bidirectional (<span style=\"color: #0087ff; text-decoration-color: #0087ff\">Bidirectional</span>)   │ (<span style=\"color: #00d7ff; text-decoration-color: #00d7ff\">None</span>, <span style=\"color: #00af00; text-decoration-color: #00af00\">30</span>, <span style=\"color: #00af00; text-decoration-color: #00af00\">200</span>)        │        <span style=\"color: #00af00; text-decoration-color: #00af00\">96,000</span> │\n",
       "├─────────────────────────────────┼────────────────────────┼───────────────┤\n",
       "│ dropout (<span style=\"color: #0087ff; text-decoration-color: #0087ff\">Dropout</span>)               │ (<span style=\"color: #00d7ff; text-decoration-color: #00d7ff\">None</span>, <span style=\"color: #00af00; text-decoration-color: #00af00\">30</span>, <span style=\"color: #00af00; text-decoration-color: #00af00\">200</span>)        │             <span style=\"color: #00af00; text-decoration-color: #00af00\">0</span> │\n",
       "├─────────────────────────────────┼────────────────────────┼───────────────┤\n",
       "│ batch_normalization             │ (<span style=\"color: #00d7ff; text-decoration-color: #00d7ff\">None</span>, <span style=\"color: #00af00; text-decoration-color: #00af00\">30</span>, <span style=\"color: #00af00; text-decoration-color: #00af00\">200</span>)        │           <span style=\"color: #00af00; text-decoration-color: #00af00\">800</span> │\n",
       "│ (<span style=\"color: #0087ff; text-decoration-color: #0087ff\">BatchNormalization</span>)            │                        │               │\n",
       "├─────────────────────────────────┼────────────────────────┼───────────────┤\n",
       "│ lstm_1 (<span style=\"color: #0087ff; text-decoration-color: #0087ff\">LSTM</span>)                   │ (<span style=\"color: #00d7ff; text-decoration-color: #00d7ff\">None</span>, <span style=\"color: #00af00; text-decoration-color: #00af00\">30</span>, <span style=\"color: #00af00; text-decoration-color: #00af00\">50</span>)         │        <span style=\"color: #00af00; text-decoration-color: #00af00\">50,200</span> │\n",
       "├─────────────────────────────────┼────────────────────────┼───────────────┤\n",
       "│ dropout_1 (<span style=\"color: #0087ff; text-decoration-color: #0087ff\">Dropout</span>)             │ (<span style=\"color: #00d7ff; text-decoration-color: #00d7ff\">None</span>, <span style=\"color: #00af00; text-decoration-color: #00af00\">30</span>, <span style=\"color: #00af00; text-decoration-color: #00af00\">50</span>)         │             <span style=\"color: #00af00; text-decoration-color: #00af00\">0</span> │\n",
       "├─────────────────────────────────┼────────────────────────┼───────────────┤\n",
       "│ batch_normalization_1           │ (<span style=\"color: #00d7ff; text-decoration-color: #00d7ff\">None</span>, <span style=\"color: #00af00; text-decoration-color: #00af00\">30</span>, <span style=\"color: #00af00; text-decoration-color: #00af00\">50</span>)         │           <span style=\"color: #00af00; text-decoration-color: #00af00\">200</span> │\n",
       "│ (<span style=\"color: #0087ff; text-decoration-color: #0087ff\">BatchNormalization</span>)            │                        │               │\n",
       "├─────────────────────────────────┼────────────────────────┼───────────────┤\n",
       "│ lstm_2 (<span style=\"color: #0087ff; text-decoration-color: #0087ff\">LSTM</span>)                   │ (<span style=\"color: #00d7ff; text-decoration-color: #00d7ff\">None</span>, <span style=\"color: #00af00; text-decoration-color: #00af00\">30</span>)             │         <span style=\"color: #00af00; text-decoration-color: #00af00\">9,720</span> │\n",
       "├─────────────────────────────────┼────────────────────────┼───────────────┤\n",
       "│ dropout_2 (<span style=\"color: #0087ff; text-decoration-color: #0087ff\">Dropout</span>)             │ (<span style=\"color: #00d7ff; text-decoration-color: #00d7ff\">None</span>, <span style=\"color: #00af00; text-decoration-color: #00af00\">30</span>)             │             <span style=\"color: #00af00; text-decoration-color: #00af00\">0</span> │\n",
       "├─────────────────────────────────┼────────────────────────┼───────────────┤\n",
       "│ batch_normalization_2           │ (<span style=\"color: #00d7ff; text-decoration-color: #00d7ff\">None</span>, <span style=\"color: #00af00; text-decoration-color: #00af00\">30</span>)             │           <span style=\"color: #00af00; text-decoration-color: #00af00\">120</span> │\n",
       "│ (<span style=\"color: #0087ff; text-decoration-color: #0087ff\">BatchNormalization</span>)            │                        │               │\n",
       "├─────────────────────────────────┼────────────────────────┼───────────────┤\n",
       "│ dense (<span style=\"color: #0087ff; text-decoration-color: #0087ff\">Dense</span>)                   │ (<span style=\"color: #00d7ff; text-decoration-color: #00d7ff\">None</span>, <span style=\"color: #00af00; text-decoration-color: #00af00\">1</span>)              │            <span style=\"color: #00af00; text-decoration-color: #00af00\">31</span> │\n",
       "└─────────────────────────────────┴────────────────────────┴───────────────┘\n",
       "</pre>\n"
      ],
      "text/plain": [
       "┏━━━━━━━━━━━━━━━━━━━━━━━━━━━━━━━━━┳━━━━━━━━━━━━━━━━━━━━━━━━┳━━━━━━━━━━━━━━━┓\n",
       "┃\u001b[1m \u001b[0m\u001b[1mLayer (type)                   \u001b[0m\u001b[1m \u001b[0m┃\u001b[1m \u001b[0m\u001b[1mOutput Shape          \u001b[0m\u001b[1m \u001b[0m┃\u001b[1m \u001b[0m\u001b[1m      Param #\u001b[0m\u001b[1m \u001b[0m┃\n",
       "┡━━━━━━━━━━━━━━━━━━━━━━━━━━━━━━━━━╇━━━━━━━━━━━━━━━━━━━━━━━━╇━━━━━━━━━━━━━━━┩\n",
       "│ bidirectional (\u001b[38;5;33mBidirectional\u001b[0m)   │ (\u001b[38;5;45mNone\u001b[0m, \u001b[38;5;34m30\u001b[0m, \u001b[38;5;34m200\u001b[0m)        │        \u001b[38;5;34m96,000\u001b[0m │\n",
       "├─────────────────────────────────┼────────────────────────┼───────────────┤\n",
       "│ dropout (\u001b[38;5;33mDropout\u001b[0m)               │ (\u001b[38;5;45mNone\u001b[0m, \u001b[38;5;34m30\u001b[0m, \u001b[38;5;34m200\u001b[0m)        │             \u001b[38;5;34m0\u001b[0m │\n",
       "├─────────────────────────────────┼────────────────────────┼───────────────┤\n",
       "│ batch_normalization             │ (\u001b[38;5;45mNone\u001b[0m, \u001b[38;5;34m30\u001b[0m, \u001b[38;5;34m200\u001b[0m)        │           \u001b[38;5;34m800\u001b[0m │\n",
       "│ (\u001b[38;5;33mBatchNormalization\u001b[0m)            │                        │               │\n",
       "├─────────────────────────────────┼────────────────────────┼───────────────┤\n",
       "│ lstm_1 (\u001b[38;5;33mLSTM\u001b[0m)                   │ (\u001b[38;5;45mNone\u001b[0m, \u001b[38;5;34m30\u001b[0m, \u001b[38;5;34m50\u001b[0m)         │        \u001b[38;5;34m50,200\u001b[0m │\n",
       "├─────────────────────────────────┼────────────────────────┼───────────────┤\n",
       "│ dropout_1 (\u001b[38;5;33mDropout\u001b[0m)             │ (\u001b[38;5;45mNone\u001b[0m, \u001b[38;5;34m30\u001b[0m, \u001b[38;5;34m50\u001b[0m)         │             \u001b[38;5;34m0\u001b[0m │\n",
       "├─────────────────────────────────┼────────────────────────┼───────────────┤\n",
       "│ batch_normalization_1           │ (\u001b[38;5;45mNone\u001b[0m, \u001b[38;5;34m30\u001b[0m, \u001b[38;5;34m50\u001b[0m)         │           \u001b[38;5;34m200\u001b[0m │\n",
       "│ (\u001b[38;5;33mBatchNormalization\u001b[0m)            │                        │               │\n",
       "├─────────────────────────────────┼────────────────────────┼───────────────┤\n",
       "│ lstm_2 (\u001b[38;5;33mLSTM\u001b[0m)                   │ (\u001b[38;5;45mNone\u001b[0m, \u001b[38;5;34m30\u001b[0m)             │         \u001b[38;5;34m9,720\u001b[0m │\n",
       "├─────────────────────────────────┼────────────────────────┼───────────────┤\n",
       "│ dropout_2 (\u001b[38;5;33mDropout\u001b[0m)             │ (\u001b[38;5;45mNone\u001b[0m, \u001b[38;5;34m30\u001b[0m)             │             \u001b[38;5;34m0\u001b[0m │\n",
       "├─────────────────────────────────┼────────────────────────┼───────────────┤\n",
       "│ batch_normalization_2           │ (\u001b[38;5;45mNone\u001b[0m, \u001b[38;5;34m30\u001b[0m)             │           \u001b[38;5;34m120\u001b[0m │\n",
       "│ (\u001b[38;5;33mBatchNormalization\u001b[0m)            │                        │               │\n",
       "├─────────────────────────────────┼────────────────────────┼───────────────┤\n",
       "│ dense (\u001b[38;5;33mDense\u001b[0m)                   │ (\u001b[38;5;45mNone\u001b[0m, \u001b[38;5;34m1\u001b[0m)              │            \u001b[38;5;34m31\u001b[0m │\n",
       "└─────────────────────────────────┴────────────────────────┴───────────────┘\n"
      ]
     },
     "metadata": {},
     "output_type": "display_data"
    },
    {
     "data": {
      "text/html": [
       "<pre style=\"white-space:pre;overflow-x:auto;line-height:normal;font-family:Menlo,'DejaVu Sans Mono',consolas,'Courier New',monospace\"><span style=\"font-weight: bold\"> Total params: </span><span style=\"color: #00af00; text-decoration-color: #00af00\">157,071</span> (613.56 KB)\n",
       "</pre>\n"
      ],
      "text/plain": [
       "\u001b[1m Total params: \u001b[0m\u001b[38;5;34m157,071\u001b[0m (613.56 KB)\n"
      ]
     },
     "metadata": {},
     "output_type": "display_data"
    },
    {
     "data": {
      "text/html": [
       "<pre style=\"white-space:pre;overflow-x:auto;line-height:normal;font-family:Menlo,'DejaVu Sans Mono',consolas,'Courier New',monospace\"><span style=\"font-weight: bold\"> Trainable params: </span><span style=\"color: #00af00; text-decoration-color: #00af00\">156,511</span> (611.37 KB)\n",
       "</pre>\n"
      ],
      "text/plain": [
       "\u001b[1m Trainable params: \u001b[0m\u001b[38;5;34m156,511\u001b[0m (611.37 KB)\n"
      ]
     },
     "metadata": {},
     "output_type": "display_data"
    },
    {
     "data": {
      "text/html": [
       "<pre style=\"white-space:pre;overflow-x:auto;line-height:normal;font-family:Menlo,'DejaVu Sans Mono',consolas,'Courier New',monospace\"><span style=\"font-weight: bold\"> Non-trainable params: </span><span style=\"color: #00af00; text-decoration-color: #00af00\">560</span> (2.19 KB)\n",
       "</pre>\n"
      ],
      "text/plain": [
       "\u001b[1m Non-trainable params: \u001b[0m\u001b[38;5;34m560\u001b[0m (2.19 KB)\n"
      ]
     },
     "metadata": {},
     "output_type": "display_data"
    }
   ],
   "source": [
    "def create_lstm_model(X_train):\n",
    "    model = Sequential()\n",
    "    \n",
    "    # Bidirectional LSTM layer\n",
    "    model.add(Bidirectional(LSTM(100, return_sequences=True), input_shape=(X_train.shape[1], X_train.shape[2])))\n",
    "    model.add(Dropout(0.3))\n",
    "    model.add(BatchNormalization())\n",
    "    \n",
    "    # Additional LSTM layers for complexity\n",
    "    model.add(LSTM(50, return_sequences=True))\n",
    "    model.add(Dropout(0.3))\n",
    "    model.add(BatchNormalization())\n",
    "    \n",
    "    # Final LSTM layer and dropout\n",
    "    model.add(LSTM(30))\n",
    "    model.add(Dropout(0.3))\n",
    "    model.add(BatchNormalization())\n",
    "\n",
    "    # Dense output layer to predict RUL\n",
    "    model.add(Dense(1))\n",
    "\n",
    "    # Compile model\n",
    "# Recompile the model after loading it\n",
    "    model.compile(optimizer='adam', loss='mean_squared_error', metrics=['mae'])\n",
    "    \n",
    "    return model\n",
    "\n",
    "# Create the LSTM model\n",
    "model = create_lstm_model(X_train_scaled)\n",
    "\n",
    "# Print model summary\n",
    "model.summary()\n"
   ]
  },
  {
   "cell_type": "markdown",
   "metadata": {},
   "source": [
    "### TENSORBOARD VISUALIZATION\n",
    "\n"
   ]
  },
  {
   "cell_type": "code",
   "execution_count": 30,
   "metadata": {},
   "outputs": [
    {
     "name": "stderr",
     "output_type": "stream",
     "text": [
      "2025-01-28 09:47:36.492400: W external/local_xla/xla/tsl/framework/cpu_allocator_impl.cc:83] Allocation of 31375080 exceeds 10% of free system memory.\n",
      "2025-01-28 09:47:36.619884: W external/local_xla/xla/tsl/framework/cpu_allocator_impl.cc:83] Allocation of 31375080 exceeds 10% of free system memory.\n"
     ]
    },
    {
     "name": "stdout",
     "output_type": "stream",
     "text": [
      "Epoch 1/10\n"
     ]
    },
    {
     "name": "stderr",
     "output_type": "stream",
     "text": [
      "I0000 00:00:1738037864.437139  104790 cuda_dnn.cc:529] Loaded cuDNN version 90300\n"
     ]
    },
    {
     "name": "stdout",
     "output_type": "stream",
     "text": [
      "\u001b[1m108/108\u001b[0m \u001b[32m━━━━━━━━━━━━━━━━━━━━\u001b[0m\u001b[37m\u001b[0m \u001b[1m21s\u001b[0m 82ms/step - loss: 1.2495 - mae: 0.8685 - val_loss: 0.0024 - val_mae: 0.0443\n",
      "Epoch 2/10\n",
      "\u001b[1m108/108\u001b[0m \u001b[32m━━━━━━━━━━━━━━━━━━━━\u001b[0m\u001b[37m\u001b[0m \u001b[1m8s\u001b[0m 77ms/step - loss: 0.3520 - mae: 0.4669 - val_loss: 0.0016 - val_mae: 0.0336\n",
      "Epoch 3/10\n",
      "\u001b[1m108/108\u001b[0m \u001b[32m━━━━━━━━━━━━━━━━━━━━\u001b[0m\u001b[37m\u001b[0m \u001b[1m8s\u001b[0m 74ms/step - loss: 0.1963 - mae: 0.3428 - val_loss: 0.0014 - val_mae: 0.0264\n",
      "Epoch 4/10\n",
      "\u001b[1m108/108\u001b[0m \u001b[32m━━━━━━━━━━━━━━━━━━━━\u001b[0m\u001b[37m\u001b[0m \u001b[1m10s\u001b[0m 89ms/step - loss: 0.1139 - mae: 0.2623 - val_loss: 6.7462e-04 - val_mae: 0.0220\n",
      "Epoch 5/10\n",
      "\u001b[1m108/108\u001b[0m \u001b[32m━━━━━━━━━━━━━━━━━━━━\u001b[0m\u001b[37m\u001b[0m \u001b[1m8s\u001b[0m 75ms/step - loss: 0.0654 - mae: 0.1993 - val_loss: 2.1155e-04 - val_mae: 0.0105\n",
      "Epoch 6/10\n",
      "\u001b[1m108/108\u001b[0m \u001b[32m━━━━━━━━━━━━━━━━━━━━\u001b[0m\u001b[37m\u001b[0m \u001b[1m8s\u001b[0m 76ms/step - loss: 0.0367 - mae: 0.1491 - val_loss: 9.7803e-05 - val_mae: 0.0075\n",
      "Epoch 7/10\n",
      "\u001b[1m108/108\u001b[0m \u001b[32m━━━━━━━━━━━━━━━━━━━━\u001b[0m\u001b[37m\u001b[0m \u001b[1m8s\u001b[0m 71ms/step - loss: 0.0211 - mae: 0.1133 - val_loss: 4.4330e-05 - val_mae: 0.0050\n",
      "Epoch 8/10\n",
      "\u001b[1m108/108\u001b[0m \u001b[32m━━━━━━━━━━━━━━━━━━━━\u001b[0m\u001b[37m\u001b[0m \u001b[1m10s\u001b[0m 96ms/step - loss: 0.0112 - mae: 0.0819 - val_loss: 2.5449e-05 - val_mae: 0.0039\n",
      "Epoch 9/10\n",
      "\u001b[1m108/108\u001b[0m \u001b[32m━━━━━━━━━━━━━━━━━━━━\u001b[0m\u001b[37m\u001b[0m \u001b[1m9s\u001b[0m 83ms/step - loss: 0.0060 - mae: 0.0603 - val_loss: 1.1371e-05 - val_mae: 0.0025\n",
      "Epoch 10/10\n",
      "\u001b[1m108/108\u001b[0m \u001b[32m━━━━━━━━━━━━━━━━━━━━\u001b[0m\u001b[37m\u001b[0m \u001b[1m8s\u001b[0m 71ms/step - loss: 0.0032 - mae: 0.0436 - val_loss: 5.8999e-06 - val_mae: 0.0018\n"
     ]
    }
   ],
   "source": [
    "def train_model(model, X_train, y_train):\n",
    "    log_dir = \"../logs/fit/\" + datetime.datetime.now().strftime(\"%Y%m%d-%H%M%S\")\n",
    "    tensorboard_callback = TensorBoard(log_dir=log_dir, histogram_freq=1)\n",
    "\n",
    "    # Train the model\n",
    "    history = model.fit(\n",
    "        X_train, y_train,\n",
    "        epochs=10,\n",
    "        batch_size=128,\n",
    "        validation_split=0.2,\n",
    "        callbacks=[tensorboard_callback]\n",
    "    )\n",
    "    \n",
    "    return model, history\n",
    "\n",
    "# Train the model\n",
    "model, history = train_model(model, X_train_scaled, y_train)\n"
   ]
  },
  {
   "cell_type": "code",
   "execution_count": 31,
   "metadata": {},
   "outputs": [
    {
     "name": "stderr",
     "output_type": "stream",
     "text": [
      "WARNING:absl:You are saving your model as an HDF5 file via `model.save()` or `keras.saving.save_model(model)`. This file format is considered legacy. We recommend using instead the native Keras format, e.g. `model.save('my_model.keras')` or `keras.saving.save_model(model, 'my_model.keras')`. \n"
     ]
    }
   ],
   "source": [
    "model.save('../models/best_model.h5')"
   ]
  },
  {
   "cell_type": "code",
   "execution_count": 32,
   "metadata": {},
   "outputs": [
    {
     "name": "stderr",
     "output_type": "stream",
     "text": [
      "2025-01-28 09:50:02.217050: W external/local_xla/xla/tsl/framework/cpu_allocator_impl.cc:83] Allocation of 22435200 exceeds 10% of free system memory.\n"
     ]
    },
    {
     "name": "stdout",
     "output_type": "stream",
     "text": [
      "\u001b[1m308/308\u001b[0m \u001b[32m━━━━━━━━━━━━━━━━━━━━\u001b[0m\u001b[37m\u001b[0m \u001b[1m7s\u001b[0m 22ms/step\n",
      "Predicted RUL: [[-0.00231721]\n",
      " [-0.00294602]\n",
      " [-0.00335184]\n",
      " [-0.0040621 ]\n",
      " [-0.00509058]]\n",
      "Actual RUL: [0.0002 0.0005 0.0005 0.0009 0.0009]\n"
     ]
    }
   ],
   "source": [
    "def evaluate_model(model, X_test):\n",
    "    y_pred = model.predict(X_test)\n",
    "    return y_pred\n",
    "\n",
    "# Evaluate on test data\n",
    "y_pred = evaluate_model(model, X_test_scaled)\n",
    "\n",
    "# Print some predictions and actual values\n",
    "print(\"Predicted RUL:\", y_pred[:5])\n",
    "print(\"Actual RUL:\", y_test[:5])\n"
   ]
  },
  {
   "cell_type": "code",
   "execution_count": 37,
   "metadata": {},
   "outputs": [
    {
     "data": {
      "text/plain": [
       "array([[[0.        , 0.        , 0.54518072, ..., 0.        ,\n",
       "         0.33333333, 0.        ],\n",
       "        [0.        , 0.        , 0.43373494, ..., 0.        ,\n",
       "         0.41666667, 0.        ],\n",
       "        [0.        , 0.        , 0.4186747 , ..., 0.        ,\n",
       "         0.41666667, 0.        ],\n",
       "        ...,\n",
       "        [0.        , 0.        , 0.20180723, ..., 0.        ,\n",
       "         0.25      , 0.        ],\n",
       "        [0.        , 0.        , 0.38855422, ..., 0.        ,\n",
       "         0.25      , 0.        ],\n",
       "        [0.        , 0.        , 0.43373494, ..., 0.        ,\n",
       "         0.25      , 0.        ]],\n",
       "\n",
       "       [[0.        , 0.        , 0.43373494, ..., 0.        ,\n",
       "         0.41666667, 0.        ],\n",
       "        [0.        , 0.        , 0.4186747 , ..., 0.        ,\n",
       "         0.41666667, 0.        ],\n",
       "        [0.        , 0.        , 0.49096386, ..., 0.        ,\n",
       "         0.41666667, 0.        ],\n",
       "        ...,\n",
       "        [0.        , 0.        , 0.38855422, ..., 0.        ,\n",
       "         0.25      , 0.        ],\n",
       "        [0.        , 0.        , 0.43373494, ..., 0.        ,\n",
       "         0.25      , 0.        ],\n",
       "        [0.        , 0.        , 0.34337349, ..., 0.        ,\n",
       "         0.33333333, 0.        ]],\n",
       "\n",
       "       [[0.        , 0.        , 0.4186747 , ..., 0.        ,\n",
       "         0.41666667, 0.        ],\n",
       "        [0.        , 0.        , 0.49096386, ..., 0.        ,\n",
       "         0.41666667, 0.        ],\n",
       "        [0.        , 0.        , 0.3313253 , ..., 0.        ,\n",
       "         0.33333333, 0.        ],\n",
       "        ...,\n",
       "        [0.        , 0.        , 0.43373494, ..., 0.        ,\n",
       "         0.25      , 0.        ],\n",
       "        [0.        , 0.        , 0.34337349, ..., 0.        ,\n",
       "         0.33333333, 0.        ],\n",
       "        [0.        , 0.        , 0.22590361, ..., 0.        ,\n",
       "         0.5       , 0.        ]],\n",
       "\n",
       "       ...,\n",
       "\n",
       "       [[0.        , 0.        , 0.48795181, ..., 0.        ,\n",
       "         0.41666667, 0.        ],\n",
       "        [0.        , 0.        , 0.28614458, ..., 0.        ,\n",
       "         0.25      , 0.        ],\n",
       "        [0.        , 0.        , 0.51807229, ..., 0.        ,\n",
       "         0.41666667, 0.        ],\n",
       "        ...,\n",
       "        [0.        , 0.        , 0.43975904, ..., 0.        ,\n",
       "         0.33333333, 0.        ],\n",
       "        [0.        , 0.        , 0.5060241 , ..., 0.        ,\n",
       "         0.41666667, 0.        ],\n",
       "        [0.        , 0.        , 0.37951807, ..., 0.        ,\n",
       "         0.5       , 0.        ]],\n",
       "\n",
       "       [[0.        , 0.        , 0.28614458, ..., 0.        ,\n",
       "         0.25      , 0.        ],\n",
       "        [0.        , 0.        , 0.51807229, ..., 0.        ,\n",
       "         0.41666667, 0.        ],\n",
       "        [0.        , 0.        , 0.31024096, ..., 0.        ,\n",
       "         0.41666667, 0.        ],\n",
       "        ...,\n",
       "        [0.        , 0.        , 0.5060241 , ..., 0.        ,\n",
       "         0.41666667, 0.        ],\n",
       "        [0.        , 0.        , 0.37951807, ..., 0.        ,\n",
       "         0.5       , 0.        ],\n",
       "        [0.        , 0.        , 0.46385542, ..., 0.        ,\n",
       "         0.58333333, 0.        ]],\n",
       "\n",
       "       [[0.        , 0.        , 0.51807229, ..., 0.        ,\n",
       "         0.41666667, 0.        ],\n",
       "        [0.        , 0.        , 0.31024096, ..., 0.        ,\n",
       "         0.41666667, 0.        ],\n",
       "        [0.        , 0.        , 0.02409639, ..., 0.        ,\n",
       "         0.33333333, 0.        ],\n",
       "        ...,\n",
       "        [0.        , 0.        , 0.37951807, ..., 0.        ,\n",
       "         0.5       , 0.        ],\n",
       "        [0.        , 0.        , 0.46385542, ..., 0.        ,\n",
       "         0.58333333, 0.        ],\n",
       "        [0.        , 0.        , 0.52409639, ..., 0.        ,\n",
       "         0.41666667, 0.        ]]])"
      ]
     },
     "execution_count": 37,
     "metadata": {},
     "output_type": "execute_result"
    }
   ],
   "source": [
    "X_test_scaled"
   ]
  },
  {
   "cell_type": "code",
   "execution_count": null,
   "metadata": {},
   "outputs": [],
   "source": []
  }
 ],
 "metadata": {
  "kernelspec": {
   "display_name": "tf",
   "language": "python",
   "name": "python3"
  },
  "language_info": {
   "codemirror_mode": {
    "name": "ipython",
    "version": 3
   },
   "file_extension": ".py",
   "mimetype": "text/x-python",
   "name": "python",
   "nbconvert_exporter": "python",
   "pygments_lexer": "ipython3",
   "version": "3.10.15"
  }
 },
 "nbformat": 4,
 "nbformat_minor": 2
}
